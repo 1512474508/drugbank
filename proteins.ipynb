{
 "cells": [
  {
   "cell_type": "code",
   "execution_count": 50,
   "metadata": {
    "collapsed": true
   },
   "outputs": [],
   "source": [
    "import os\n",
    "import io\n",
    "import gzip\n",
    "\n",
    "import pandas\n",
    "import requests"
   ]
  },
  {
   "cell_type": "code",
   "execution_count": 15,
   "metadata": {
    "collapsed": false
   },
   "outputs": [
    {
     "name": "stdout",
     "output_type": "stream",
     "text": [
      "--2015-05-08 12:23:41--  http://www.drugbank.ca/system/downloads/current//all_target_ids_all.csv.zip\n",
      "Resolving www.drugbank.ca (www.drugbank.ca)... 162.243.242.197\n",
      "Connecting to www.drugbank.ca (www.drugbank.ca)|162.243.242.197|:80... connected.\n",
      "HTTP request sent, awaiting response... 200 OK\n",
      "Length: 207452 (203K) [application/zip]\n",
      "Saving to: ‘download/all_target_ids_all.csv.zip’\n",
      "\n",
      "100%[======================================>] 207,452      394KB/s   in 0.5s   \n",
      "\n",
      "2015-05-08 12:23:42 (394 KB/s) - ‘download/all_target_ids_all.csv.zip’ saved [207452/207452]\n",
      "\n",
      "Archive:  download/all_target_ids_all.csv.zip\n",
      "  inflating: download/all_target_ids_all.csv  \n"
     ]
    }
   ],
   "source": [
    "url_base = 'http://www.drugbank.ca/system/downloads/current/'\n",
    "filename = 'all_target_ids_all.csv.zip'\n",
    "! wget --timestamping --directory-prefix download $url_base/$filename\n",
    "! unzip -o download/$filename -d download\n",
    "! rm download/$filename"
   ]
  },
  {
   "cell_type": "code",
   "execution_count": null,
   "metadata": {
    "collapsed": true
   },
   "outputs": [],
   "source": []
  },
  {
   "cell_type": "code",
   "execution_count": 35,
   "metadata": {
    "collapsed": false
   },
   "outputs": [
    {
     "data": {
      "text/html": [
       "<div style=\"max-height:1000px;max-width:1500px;overflow:auto;\">\n",
       "<table border=\"1\" class=\"dataframe\">\n",
       "  <thead>\n",
       "    <tr style=\"text-align: right;\">\n",
       "      <th></th>\n",
       "      <th>ID</th>\n",
       "      <th>Name</th>\n",
       "      <th>Gene Name</th>\n",
       "      <th>GenBank Protein ID</th>\n",
       "      <th>GenBank Gene ID</th>\n",
       "      <th>UniProt ID</th>\n",
       "      <th>Uniprot Title</th>\n",
       "      <th>PDB ID</th>\n",
       "      <th>GeneCard ID</th>\n",
       "      <th>GenAtlas ID</th>\n",
       "      <th>HGNC ID</th>\n",
       "      <th>Species</th>\n",
       "      <th>Drug IDs</th>\n",
       "    </tr>\n",
       "  </thead>\n",
       "  <tbody>\n",
       "    <tr>\n",
       "      <th>0</th>\n",
       "      <td>P45059</td>\n",
       "      <td>Peptidoglycan synthase FtsI</td>\n",
       "      <td>ftsI</td>\n",
       "      <td>1574687</td>\n",
       "      <td>L42023</td>\n",
       "      <td>P45059</td>\n",
       "      <td>FTSI_HAEIN</td>\n",
       "      <td>NaN</td>\n",
       "      <td>NaN</td>\n",
       "      <td>NaN</td>\n",
       "      <td>NaN</td>\n",
       "      <td>Haemophilus influenzae (strain ATCC 51907 / DS...</td>\n",
       "      <td>DB00303</td>\n",
       "    </tr>\n",
       "    <tr>\n",
       "      <th>1</th>\n",
       "      <td>P19113</td>\n",
       "      <td>Histidine decarboxylase</td>\n",
       "      <td>HDC</td>\n",
       "      <td>32109</td>\n",
       "      <td>X54297</td>\n",
       "      <td>P19113</td>\n",
       "      <td>DCHS_HUMAN</td>\n",
       "      <td>NaN</td>\n",
       "      <td>HDC</td>\n",
       "      <td>HDC</td>\n",
       "      <td>HGNC:4855</td>\n",
       "      <td>Human</td>\n",
       "      <td>DB00114; DB00117</td>\n",
       "    </tr>\n",
       "    <tr>\n",
       "      <th>2</th>\n",
       "      <td>Q9UI32</td>\n",
       "      <td>Glutaminase liver isoform, mitochondrial</td>\n",
       "      <td>GLS2</td>\n",
       "      <td>6650606</td>\n",
       "      <td>AF110330</td>\n",
       "      <td>Q9UI32</td>\n",
       "      <td>GLSL_HUMAN</td>\n",
       "      <td>NaN</td>\n",
       "      <td>GLS2</td>\n",
       "      <td>GLS2</td>\n",
       "      <td>HGNC:29570</td>\n",
       "      <td>Human</td>\n",
       "      <td>DB00142</td>\n",
       "    </tr>\n",
       "    <tr>\n",
       "      <th>3</th>\n",
       "      <td>P00488</td>\n",
       "      <td>Coagulation factor XIII A chain</td>\n",
       "      <td>F13A1</td>\n",
       "      <td>182309</td>\n",
       "      <td>M22001</td>\n",
       "      <td>P00488</td>\n",
       "      <td>F13A_HUMAN</td>\n",
       "      <td>NaN</td>\n",
       "      <td>F13A1</td>\n",
       "      <td>F13A1</td>\n",
       "      <td>HGNC:3531</td>\n",
       "      <td>Human</td>\n",
       "      <td>DB01839; DB02340</td>\n",
       "    </tr>\n",
       "    <tr>\n",
       "      <th>4</th>\n",
       "      <td>P35228</td>\n",
       "      <td>Nitric oxide synthase, inducible</td>\n",
       "      <td>NOS2</td>\n",
       "      <td>292242</td>\n",
       "      <td>L09210</td>\n",
       "      <td>P35228</td>\n",
       "      <td>NOS2_HUMAN</td>\n",
       "      <td>NaN</td>\n",
       "      <td>NOS2A</td>\n",
       "      <td>NOS2A</td>\n",
       "      <td>HGNC:7873</td>\n",
       "      <td>Human</td>\n",
       "      <td>DB00125; DB00155; DB01110; DB01234; DB01686; D...</td>\n",
       "    </tr>\n",
       "  </tbody>\n",
       "</table>\n",
       "</div>"
      ],
      "text/plain": [
       "       ID                                      Name Gene Name  \\\n",
       "0  P45059               Peptidoglycan synthase FtsI      ftsI   \n",
       "1  P19113                   Histidine decarboxylase       HDC   \n",
       "2  Q9UI32  Glutaminase liver isoform, mitochondrial      GLS2   \n",
       "3  P00488           Coagulation factor XIII A chain     F13A1   \n",
       "4  P35228          Nitric oxide synthase, inducible      NOS2   \n",
       "\n",
       "   GenBank Protein ID GenBank Gene ID UniProt ID Uniprot Title  PDB ID  \\\n",
       "0             1574687          L42023     P45059    FTSI_HAEIN     NaN   \n",
       "1               32109          X54297     P19113    DCHS_HUMAN     NaN   \n",
       "2             6650606        AF110330     Q9UI32    GLSL_HUMAN     NaN   \n",
       "3              182309          M22001     P00488    F13A_HUMAN     NaN   \n",
       "4              292242          L09210     P35228    NOS2_HUMAN     NaN   \n",
       "\n",
       "  GeneCard ID GenAtlas ID     HGNC ID  \\\n",
       "0         NaN         NaN         NaN   \n",
       "1         HDC         HDC   HGNC:4855   \n",
       "2        GLS2        GLS2  HGNC:29570   \n",
       "3       F13A1       F13A1   HGNC:3531   \n",
       "4       NOS2A       NOS2A   HGNC:7873   \n",
       "\n",
       "                                             Species  \\\n",
       "0  Haemophilus influenzae (strain ATCC 51907 / DS...   \n",
       "1                                              Human   \n",
       "2                                              Human   \n",
       "3                                              Human   \n",
       "4                                              Human   \n",
       "\n",
       "                                            Drug IDs  \n",
       "0                                            DB00303  \n",
       "1                                   DB00114; DB00117  \n",
       "2                                            DB00142  \n",
       "3                                   DB01839; DB02340  \n",
       "4  DB00125; DB00155; DB01110; DB01234; DB01686; D...  "
      ]
     },
     "execution_count": 35,
     "metadata": {},
     "output_type": "execute_result"
    }
   ],
   "source": [
    "path = os.path.join('download', 'all_target_ids_all.csv')\n",
    "target_df = pandas.read_csv(path)\n",
    "target_df.head()"
   ]
  },
  {
   "cell_type": "code",
   "execution_count": null,
   "metadata": {
    "collapsed": false
   },
   "outputs": [],
   "source": []
  },
  {
   "cell_type": "code",
   "execution_count": 45,
   "metadata": {
    "collapsed": false
   },
   "outputs": [
    {
     "data": {
      "text/html": [
       "<div style=\"max-height:1000px;max-width:1500px;overflow:auto;\">\n",
       "<table border=\"1\" class=\"dataframe\">\n",
       "  <thead>\n",
       "    <tr style=\"text-align: right;\">\n",
       "      <th></th>\n",
       "      <th>drugbank_id</th>\n",
       "      <th>hgnc_id</th>\n",
       "      <th>species</th>\n",
       "      <th>uniprot_id</th>\n",
       "      <th>uniprot_name</th>\n",
       "    </tr>\n",
       "  </thead>\n",
       "  <tbody>\n",
       "    <tr>\n",
       "      <th>0</th>\n",
       "      <td>DB00303</td>\n",
       "      <td>NaN</td>\n",
       "      <td>Haemophilus influenzae (strain ATCC 51907 / DS...</td>\n",
       "      <td>P45059</td>\n",
       "      <td>FTSI_HAEIN</td>\n",
       "    </tr>\n",
       "    <tr>\n",
       "      <th>1</th>\n",
       "      <td>DB00114</td>\n",
       "      <td>HGNC:4855</td>\n",
       "      <td>Human</td>\n",
       "      <td>P19113</td>\n",
       "      <td>DCHS_HUMAN</td>\n",
       "    </tr>\n",
       "    <tr>\n",
       "      <th>2</th>\n",
       "      <td>DB00117</td>\n",
       "      <td>HGNC:4855</td>\n",
       "      <td>Human</td>\n",
       "      <td>P19113</td>\n",
       "      <td>DCHS_HUMAN</td>\n",
       "    </tr>\n",
       "    <tr>\n",
       "      <th>3</th>\n",
       "      <td>DB00142</td>\n",
       "      <td>HGNC:29570</td>\n",
       "      <td>Human</td>\n",
       "      <td>Q9UI32</td>\n",
       "      <td>GLSL_HUMAN</td>\n",
       "    </tr>\n",
       "    <tr>\n",
       "      <th>4</th>\n",
       "      <td>DB01839</td>\n",
       "      <td>HGNC:3531</td>\n",
       "      <td>Human</td>\n",
       "      <td>P00488</td>\n",
       "      <td>F13A_HUMAN</td>\n",
       "    </tr>\n",
       "  </tbody>\n",
       "</table>\n",
       "</div>"
      ],
      "text/plain": [
       "  drugbank_id     hgnc_id                                            species  \\\n",
       "0     DB00303         NaN  Haemophilus influenzae (strain ATCC 51907 / DS...   \n",
       "1     DB00114   HGNC:4855                                              Human   \n",
       "2     DB00117   HGNC:4855                                              Human   \n",
       "3     DB00142  HGNC:29570                                              Human   \n",
       "4     DB01839   HGNC:3531                                              Human   \n",
       "\n",
       "  uniprot_id uniprot_name  \n",
       "0     P45059   FTSI_HAEIN  \n",
       "1     P19113   DCHS_HUMAN  \n",
       "2     P19113   DCHS_HUMAN  \n",
       "3     Q9UI32   GLSL_HUMAN  \n",
       "4     P00488   F13A_HUMAN  "
      ]
     },
     "execution_count": 45,
     "metadata": {},
     "output_type": "execute_result"
    }
   ],
   "source": [
    "pairs = list()\n",
    "\n",
    "for i, row in target_df.iterrows():\n",
    "    drugs = row['Drug IDs']\n",
    "    if not drugs:\n",
    "        continue\n",
    "    drugs = drugs.split('; ')\n",
    "    \n",
    "    base = dict()\n",
    "    base['uniprot_id'] = row['UniProt ID']\n",
    "    base['uniprot_name'] = row['Uniprot Title']\n",
    "    base['species']  = row['Species']\n",
    "    base['hgnc_id'] = row['HGNC ID']\n",
    "    \n",
    "    for drug in drugs:\n",
    "        pair = base.copy()\n",
    "        pair['drugbank_id'] = drug\n",
    "        pairs.append(pair)\n",
    "\n",
    "pair_df = pandas.DataFrame.from_dict(pairs).\n",
    "pair_df.head()"
   ]
  },
  {
   "cell_type": "code",
   "execution_count": 53,
   "metadata": {
    "collapsed": false
   },
   "outputs": [],
   "source": [
    "response = requests.get('http://git.dhimmel.com/uniprot/data/map/GeneID.tsv.gz', stream=True)\n",
    "text = io.TextIOWrapper(gzip.GzipFile(fileobj=response.raw))\n",
    "uniprot_df = pandas.read_table(text, engine='python')\n",
    "uniprot_df.rename(columns={'uniprot': 'uniprot_id', 'GeneID': 'entrez_gene_id'}, inplace=True)"
   ]
  },
  {
   "cell_type": "code",
   "execution_count": 55,
   "metadata": {
    "collapsed": false
   },
   "outputs": [
    {
     "data": {
      "text/html": [
       "<div style=\"max-height:1000px;max-width:1500px;overflow:auto;\">\n",
       "<table border=\"1\" class=\"dataframe\">\n",
       "  <thead>\n",
       "    <tr style=\"text-align: right;\">\n",
       "      <th></th>\n",
       "      <th>drugbank_id</th>\n",
       "      <th>hgnc_id</th>\n",
       "      <th>species</th>\n",
       "      <th>uniprot_id</th>\n",
       "      <th>uniprot_name</th>\n",
       "      <th>entrez_gene_id</th>\n",
       "    </tr>\n",
       "  </thead>\n",
       "  <tbody>\n",
       "    <tr>\n",
       "      <th>0</th>\n",
       "      <td>DB00303</td>\n",
       "      <td>NaN</td>\n",
       "      <td>Haemophilus influenzae (strain ATCC 51907 / DS...</td>\n",
       "      <td>P45059</td>\n",
       "      <td>FTSI_HAEIN</td>\n",
       "      <td>950626</td>\n",
       "    </tr>\n",
       "    <tr>\n",
       "      <th>1</th>\n",
       "      <td>DB00114</td>\n",
       "      <td>HGNC:4855</td>\n",
       "      <td>Human</td>\n",
       "      <td>P19113</td>\n",
       "      <td>DCHS_HUMAN</td>\n",
       "      <td>3067</td>\n",
       "    </tr>\n",
       "    <tr>\n",
       "      <th>2</th>\n",
       "      <td>DB00117</td>\n",
       "      <td>HGNC:4855</td>\n",
       "      <td>Human</td>\n",
       "      <td>P19113</td>\n",
       "      <td>DCHS_HUMAN</td>\n",
       "      <td>3067</td>\n",
       "    </tr>\n",
       "    <tr>\n",
       "      <th>3</th>\n",
       "      <td>DB00142</td>\n",
       "      <td>HGNC:29570</td>\n",
       "      <td>Human</td>\n",
       "      <td>Q9UI32</td>\n",
       "      <td>GLSL_HUMAN</td>\n",
       "      <td>27165</td>\n",
       "    </tr>\n",
       "    <tr>\n",
       "      <th>4</th>\n",
       "      <td>DB01839</td>\n",
       "      <td>HGNC:3531</td>\n",
       "      <td>Human</td>\n",
       "      <td>P00488</td>\n",
       "      <td>F13A_HUMAN</td>\n",
       "      <td>2162</td>\n",
       "    </tr>\n",
       "  </tbody>\n",
       "</table>\n",
       "</div>"
      ],
      "text/plain": [
       "  drugbank_id     hgnc_id                                            species  \\\n",
       "0     DB00303         NaN  Haemophilus influenzae (strain ATCC 51907 / DS...   \n",
       "1     DB00114   HGNC:4855                                              Human   \n",
       "2     DB00117   HGNC:4855                                              Human   \n",
       "3     DB00142  HGNC:29570                                              Human   \n",
       "4     DB01839   HGNC:3531                                              Human   \n",
       "\n",
       "  uniprot_id uniprot_name  entrez_gene_id  \n",
       "0     P45059   FTSI_HAEIN          950626  \n",
       "1     P19113   DCHS_HUMAN            3067  \n",
       "2     P19113   DCHS_HUMAN            3067  \n",
       "3     Q9UI32   GLSL_HUMAN           27165  \n",
       "4     P00488   F13A_HUMAN            2162  "
      ]
     },
     "execution_count": 55,
     "metadata": {},
     "output_type": "execute_result"
    }
   ],
   "source": [
    "pair_df = pair_df.merge(uniprot_df, how='left')\n",
    "pair_df.head()"
   ]
  },
  {
   "cell_type": "code",
   "execution_count": null,
   "metadata": {
    "collapsed": false
   },
   "outputs": [],
   "source": []
  },
  {
   "cell_type": "code",
   "execution_count": null,
   "metadata": {
    "collapsed": true
   },
   "outputs": [],
   "source": []
  }
 ],
 "metadata": {
  "kernelspec": {
   "display_name": "Python 3",
   "language": "python",
   "name": "python3"
  },
  "language_info": {
   "codemirror_mode": {
    "name": "ipython",
    "version": 3
   },
   "file_extension": ".py",
   "mimetype": "text/x-python",
   "name": "python",
   "nbconvert_exporter": "python",
   "pygments_lexer": "ipython3",
   "version": "3.4.0"
  }
 },
 "nbformat": 4,
 "nbformat_minor": 0
}
