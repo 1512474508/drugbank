{
 "cells": [
  {
   "cell_type": "markdown",
   "metadata": {},
   "source": [
    "Run using Python 3 to avoid a non-ascii character error when writing to file with the csv module."
   ]
  },
  {
   "cell_type": "code",
   "execution_count": 1,
   "metadata": {
    "collapsed": true
   },
   "outputs": [],
   "source": [
    "import os\n",
    "import csv\n",
    "import gzip\n",
    "\n",
    "import xml.etree.ElementTree as ET"
   ]
  },
  {
   "cell_type": "code",
   "execution_count": 2,
   "metadata": {
    "collapsed": false
   },
   "outputs": [],
   "source": [
    "xml_path = os.path.join('download', 'drugbank.xml.gz')\n",
    "with gzip.open(xml_path) as xml_file:\n",
    "    tree = ET.parse(xml_file)\n",
    "root = tree.getroot()"
   ]
  },
  {
   "cell_type": "code",
   "execution_count": 14,
   "metadata": {
    "collapsed": false
   },
   "outputs": [],
   "source": [
    "ns = '{http://www.drugbank.ca}'\n",
    "inchikey_template = \"{ns}calculated-properties/{ns}property[{ns}kind='InChIKey']/{ns}value\"\n",
    "inchi_template = \"{ns}calculated-properties/{ns}property[{ns}kind='InChI']/{ns}value\"\n",
    "\n",
    "rows = list()\n",
    "for i, drug in enumerate(root):\n",
    "    row = dict()\n",
    "    assert drug.tag == ns + 'drug'\n",
    "    row['type'] = drug.get('type')\n",
    "    row['drugbank_id'] = drug.findtext(ns + \"drugbank-id[@primary='true']\")\n",
    "    row['name'] = drug.findtext(ns + \"name\")\n",
    "    row['groups'] = [group.text for group in drug.findall(ns + \"groups/\" + ns + \"group\")]\n",
    "    row['atc_codes'] = [code.get('code') for code in drug.findall(ns + \"atc-codes/\" + ns + \"atc-code\")]\n",
    "    row['inchi'] = drug.findtext(inchi_template.format(ns = ns))\n",
    "    row['inchikey'] = drug.findtext(inchikey_template.format(ns = ns))\n",
    "    rows.append(row)"
   ]
  },
  {
   "cell_type": "code",
   "execution_count": 15,
   "metadata": {
    "collapsed": true
   },
   "outputs": [],
   "source": [
    "def collapse_list_values(row):\n",
    "    for key, value in row.items():\n",
    "        if isinstance(value, list):\n",
    "            row[key] = '|'.join(value)\n",
    "    return row\n",
    "\n",
    "rows = list(map(collapse_list_values, rows))"
   ]
  },
  {
   "cell_type": "code",
   "execution_count": 16,
   "metadata": {
    "collapsed": false
   },
   "outputs": [],
   "source": [
    "fieldnames = ['drugbank_id', 'name', 'type', 'groups', 'atc_codes', 'inchikey', 'inchi']\n",
    "\n",
    "path = os.path.join('data', 'drugbank.tsv')\n",
    "with open(path, 'w') as write_file:\n",
    "    writer = csv.DictWriter(write_file, delimiter='\\t', fieldnames=fieldnames)\n",
    "    writer.writeheader()\n",
    "    writer.writerows(rows)"
   ]
  },
  {
   "cell_type": "code",
   "execution_count": 17,
   "metadata": {
    "collapsed": false
   },
   "outputs": [],
   "source": [
    "# write slim drugbank\n",
    "fieldnames = ['drugbank_id', 'name', 'type', 'groups', 'atc_codes', 'inchikey', 'inchi']\n",
    "\n",
    "path = os.path.join('data', 'drugbank-slim.tsv')\n",
    "with open(path, 'w') as write_file:\n",
    "    writer = csv.DictWriter(write_file, delimiter='\\t', fieldnames=fieldnames)\n",
    "    writer.writeheader()\n",
    "    for row in rows:\n",
    "        if row['type'] != 'small molecule':\n",
    "            #print(row['type'])\n",
    "            continue\n",
    "        if not row['inchi']:\n",
    "            #print(row['inchi'])\n",
    "            continue\n",
    "        if not 'approved' in row['groups'].split('|'):\n",
    "            #print(row['groups'])\n",
    "            continue\n",
    "        writer.writerow(row)"
   ]
  },
  {
   "cell_type": "code",
   "execution_count": null,
   "metadata": {
    "collapsed": true
   },
   "outputs": [],
   "source": []
  }
 ],
 "metadata": {
  "kernelspec": {
   "display_name": "Python 3",
   "language": "python",
   "name": "python3"
  },
  "language_info": {
   "codemirror_mode": {
    "name": "ipython",
    "version": 3
   },
   "file_extension": ".py",
   "mimetype": "text/x-python",
   "name": "python",
   "nbconvert_exporter": "python",
   "pygments_lexer": "ipython3",
   "version": "3.4.0"
  }
 },
 "nbformat": 4,
 "nbformat_minor": 0
}
