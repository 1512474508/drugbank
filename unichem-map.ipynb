{
 "cells": [
  {
   "cell_type": "code",
   "execution_count": 1,
   "metadata": {
    "collapsed": false
   },
   "outputs": [],
   "source": [
    "import os\n",
    "import csv\n",
    "import collections\n",
    "import json\n",
    "import gzip\n",
    "import io\n",
    "\n",
    "import requests"
   ]
  },
  {
   "cell_type": "code",
   "execution_count": 2,
   "metadata": {
    "collapsed": false
   },
   "outputs": [
    {
     "data": {
      "text/plain": [
       "Counter({'small molecule': 7469, 'biotech': 290})"
      ]
     },
     "execution_count": 2,
     "metadata": {},
     "output_type": "execute_result"
    }
   ],
   "source": [
    "path = os.path.join('data', 'drugbank.tsv')\n",
    "with open(path) as read_file:\n",
    "    reader = csv.DictReader(read_file, delimiter='\\t')\n",
    "    drugbank = list(reader)\n",
    "\n",
    "drugbank_ids = [drug['drugbank_id'] for drug in drugbank]\n",
    "assert len(drugbank_ids) == len(set(drugbank_ids))\n",
    "collections.Counter(drug['type'] for drug in drugbank)"
   ]
  },
  {
   "cell_type": "code",
   "execution_count": null,
   "metadata": {
    "collapsed": false
   },
   "outputs": [],
   "source": []
  },
  {
   "cell_type": "code",
   "execution_count": 3,
   "metadata": {
    "collapsed": false
   },
   "outputs": [],
   "source": [
    "cpd_search_url = 'https://www.ebi.ac.uk/unichem/rest/cpd_search'\n",
    "\n",
    "source_to_id = {\n",
    "    None: 0,\n",
    "    'chembl': 1,\n",
    "    'drugbank': 2,\n",
    "    'pdb': 3,\n",
    "    'iuphar': 4,\n",
    "    'pubchem_dotf': 5,\n",
    "    'kegg_ligand': 6,\n",
    "    'chebi': 7,\n",
    "    'nih_ncc': 8,\n",
    "    'zinc': 9,\n",
    "    'emolecules': 10,\n",
    "    'ibm': 11,\n",
    "    'atlas': 12,\n",
    "    'ibm_patents': 13,\n",
    "    'fdasrs': 14,\n",
    "    'surechembl': 15,\n",
    "    'pharmgkb': 17,\n",
    "    'hmdb': 18,\n",
    "    'selleck': 20,\n",
    "    'pubchem_tpharma': 21,\n",
    "    'pubchem': 22,\n",
    "    'mcule': 23,\n",
    "    'nmrshiftdb2': 24,\n",
    "    'lincs': 25,\n",
    "    'actor': 26,\n",
    "    'recon': 27,\n",
    "    'molport': 28,\n",
    "    'nikkaji': 29,\n",
    "    'bindingdb': 31,\n",
    "}\n",
    "\n",
    "id_to_source = {v: k for k, v in source_to_id.items()}\n",
    "\n",
    "def connectivity_query(source, compound_id, target = None):\n",
    "    \"\"\"\n",
    "    https://www.ebi.ac.uk/unichem/info/widesearchInfo\n",
    "    \"\"\"\n",
    "    url = '{base_url}/{src_compound_id}/{src_id}/{A}/{B}/{C}/{D}/{E}/{F}/{G}/{H}'.format(\n",
    "        base_url = cpd_search_url,\n",
    "        src_compound_id = compound_id,\n",
    "        src_id = source_to_id[source],\n",
    "        A = source_to_id[target], # Sources\n",
    "        B = 0, # Pattern\n",
    "        C = 0, # Component Mapping\n",
    "        D = 0, # Frequency Block\n",
    "        E = 0, # InChI Length Block\n",
    "        F = 0, # UniChem Labels\n",
    "        G = 0, # Assignment Status\n",
    "        H = 1, # Data Structure\n",
    "    )\n",
    "    response = requests.get(url)\n",
    "    response = response.json()\n",
    "    if 'error' in response:\n",
    "        print(response['error'])\n",
    "        return None\n",
    "    for assignment in response.values():\n",
    "        header = assignment.pop(0)\n",
    "        for match in assignment:\n",
    "            yield collections.OrderedDict(zip(header, match))"
   ]
  },
  {
   "cell_type": "code",
   "execution_count": null,
   "metadata": {
    "collapsed": false
   },
   "outputs": [],
   "source": [
    "source = 'drugbank'\n",
    "compound_id = drugbank_ids[1000]\n",
    "matches = list(connectivity_query(source, compound_id))\n",
    "print(json.dumps(matches, indent = 2))"
   ]
  },
  {
   "cell_type": "code",
   "execution_count": null,
   "metadata": {
    "collapsed": false
   },
   "outputs": [],
   "source": [
    "# mapping writer\n",
    "mapping_path = os.path.join('data', 'mapping.tsv.gz')\n",
    "mapping_file = gzip.open(mapping_path, 'wb')\n",
    "mapping_buffer = io.TextIOWrapper(mapping_file, line_buffering = True)\n",
    "mapping_fields = ['drugbank_id', 'drugbank_name', 'src_id', 'source_name', 'src_compound_id',\n",
    "              'C', 'Query_InChIKey', 'CpdId_InChIKey', 'Full_Query_InChI', 'Full_CpdId_InChI',\n",
    "              'Matching_Query_InChI', 'Matching_CpdId_InChI', 'b', 'i', 'm', 'p', 's', 't']\n",
    "mapping_writer = csv.DictWriter(mapping_buffer, delimiter = '\\t', fieldnames = mapping_fields, extrasaction = 'ignore')\n",
    "mapping_writer.writeheader()\n",
    "\n",
    "# mapping counts writer\n",
    "count_path = os.path.join('data', 'mapping-counts.tsv')\n",
    "count_file = open(count_path, 'w')\n",
    "source_names = [id_to_source[i] for i in sorted(set(id_to_source) - {0})]\n",
    "count_fields = ['drugbank_id', 'drugbank_name'] + source_names\n",
    "count_writer = csv.DictWriter(count_file, delimiter = '\\t', fieldnames = count_fields, restval = 0)\n",
    "count_writer.writeheader()\n",
    "\n",
    "\n",
    "for drug in drugbank:\n",
    "    if drug['type'] != 'small molecule':\n",
    "        continue\n",
    "    drugbank_id = drug['drugbank_id']\n",
    "    drugbank_name = drug['name']\n",
    "    print(drugbank_id, drugbank_name)\n",
    "    query_matches = list(connectivity_query(source, drugbank_id))\n",
    "    for match in query_matches:\n",
    "        match['drugbank_id'] = drugbank_id\n",
    "        match['drugbank_name'] = drugbank_name\n",
    "        match['source_name'] = id_to_source[int(match['src_id'])]\n",
    "        mapping_writer.writerow(match)\n",
    "    \n",
    "    count = collections.Counter(match['source_name'] for match in query_matches)\n",
    "    count = collections.defaultdict(int, count)\n",
    "    count['drugbank_id'] = drugbank_id\n",
    "    count['drugbank_name'] = drugbank_name\n",
    "    count_writer.writerow(count)\n",
    "\n",
    "mapping_file.close()\n",
    "count_file.close()"
   ]
  },
  {
   "cell_type": "code",
   "execution_count": 107,
   "metadata": {
    "collapsed": false
   },
   "outputs": [],
   "source": []
  }
 ],
 "metadata": {
  "kernelspec": {
   "display_name": "Python 3",
   "language": "python",
   "name": "python3"
  },
  "language_info": {
   "codemirror_mode": {
    "name": "ipython",
    "version": 3
   },
   "file_extension": ".py",
   "mimetype": "text/x-python",
   "name": "python",
   "nbconvert_exporter": "python",
   "pygments_lexer": "ipython3",
   "version": "3.4.0"
  }
 },
 "nbformat": 4,
 "nbformat_minor": 0
}
